{
 "cells": [
  {
   "cell_type": "code",
   "execution_count": 18,
   "metadata": {
    "collapsed": true
   },
   "outputs": [],
   "source": [
    "import torch, random\n",
    "import torchvision\n",
    "from torchvision.datasets import CIFAR10 \n",
    "import torchvision.transforms as transforms\n",
    "from torch.autograd import Variable\n",
    "import torch.nn as nn \n",
    "import torch.optim as optim\n",
    "import torchvision.models as models\n",
    "import torchvision.transforms as transforms\n",
    "import matplotlib.pyplot as plt\n",
    "from PIL import Image\n",
    "import json, string\n",
    "import numpy as np\n",
    "from tqdm import tqdm_notebook as tqdm\n",
    "import os\n",
    "%matplotlib inline\n"
   ]
  },
  {
   "cell_type": "code",
   "execution_count": 25,
   "metadata": {},
   "outputs": [],
   "source": [
    "imgFile = {'/Users/jianyusu/Desktop/Image_recognition/cs6501_final_project/all_data_w_splits/train/0':'/Users/jianyusu/Desktop/Image_recognition/cs6501_final_project/preprocessed/train/0/',\n",
    "           '/Users/jianyusu/Desktop/Image_recognition/cs6501_final_project/all_data_w_splits/train/1':'/Users/jianyusu/Desktop/Image_recognition/cs6501_final_project/preprocessed/train/1/',\n",
    "           '/Users/jianyusu/Desktop/Image_recognition/cs6501_final_project/all_data_w_splits/train/2':'/Users/jianyusu/Desktop/Image_recognition/cs6501_final_project/preprocessed/train/2/',\n",
    "           '/Users/jianyusu/Desktop/Image_recognition/cs6501_final_project/all_data_w_splits/train/3':'/Users/jianyusu/Desktop/Image_recognition/cs6501_final_project/preprocessed/train/3/',\n",
    "           '/Users/jianyusu/Desktop/Image_recognition/cs6501_final_project/all_data_w_splits/train/4':'/Users/jianyusu/Desktop/Image_recognition/cs6501_final_project/preprocessed/train/4/',\n",
    "           '/Users/jianyusu/Desktop/Image_recognition/cs6501_final_project/all_data_w_splits/train/5':'/Users/jianyusu/Desktop/Image_recognition/cs6501_final_project/preprocessed/train/5/',\n",
    "           '/Users/jianyusu/Desktop/Image_recognition/cs6501_final_project/all_data_w_splits/train/6':'/Users/jianyusu/Desktop/Image_recognition/cs6501_final_project/preprocessed/train/6/',\n",
    "           '/Users/jianyusu/Desktop/Image_recognition/cs6501_final_project/all_data_w_splits/train/7':'/Users/jianyusu/Desktop/Image_recognition/cs6501_final_project/preprocessed/train/7/',\n",
    "           '/Users/jianyusu/Desktop/Image_recognition/cs6501_final_project/all_data_w_splits/train/8':'/Users/jianyusu/Desktop/Image_recognition/cs6501_final_project/preprocessed/train/8/',\n",
    "           '/Users/jianyusu/Desktop/Image_recognition/cs6501_final_project/all_data_w_splits/train/9':'/Users/jianyusu/Desktop/Image_recognition/cs6501_final_project/preprocessed/train/9/'\n",
    "          \n",
    "          }\n"
   ]
  },
  {
   "cell_type": "code",
   "execution_count": 27,
   "metadata": {},
   "outputs": [],
   "source": [
    "for (inputFile, outputFile) in imgFile.items():\n",
    "    if not os.path.exists(outputFile):\n",
    "        os.makedirs(outputFile)\n",
    "    for path, subdirs, files in os.walk(inputFile):\n",
    "        for name in files:\n",
    "            file = os.path.join(path, name)\n",
    "            with Image.open(file) as f:\n",
    "                try:\n",
    "                    temp = f.copy()\n",
    "                    temp.thumbnail((224,224))\n",
    "                    temp.crop((0,0,224,224))\n",
    "                    temp.save(outputFile + name)   \n",
    "                except IOError:  \n",
    "                    print('No thumbnail')"
   ]
  },
  {
   "cell_type": "code",
   "execution_count": 28,
   "metadata": {
    "collapsed": true
   },
   "outputs": [],
   "source": [
    "imgFile = {'/Users/jianyusu/Desktop/Image_recognition/cs6501_final_project/all_data_w_splits/val/0':'/Users/jianyusu/Desktop/Image_recognition/cs6501_final_project/preprocessed/val/0/',\n",
    "           '/Users/jianyusu/Desktop/Image_recognition/cs6501_final_project/all_data_w_splits/val/1':'/Users/jianyusu/Desktop/Image_recognition/cs6501_final_project/preprocessed/val/1/',\n",
    "           '/Users/jianyusu/Desktop/Image_recognition/cs6501_final_project/all_data_w_splits/val/2':'/Users/jianyusu/Desktop/Image_recognition/cs6501_final_project/preprocessed/val/2/',\n",
    "           '/Users/jianyusu/Desktop/Image_recognition/cs6501_final_project/all_data_w_splits/val/3':'/Users/jianyusu/Desktop/Image_recognition/cs6501_final_project/preprocessed/val/3/',\n",
    "           '/Users/jianyusu/Desktop/Image_recognition/cs6501_final_project/all_data_w_splits/val/4':'/Users/jianyusu/Desktop/Image_recognition/cs6501_final_project/preprocessed/val/4/',\n",
    "           '/Users/jianyusu/Desktop/Image_recognition/cs6501_final_project/all_data_w_splits/val/5':'/Users/jianyusu/Desktop/Image_recognition/cs6501_final_project/preprocessed/val/5/',\n",
    "           '/Users/jianyusu/Desktop/Image_recognition/cs6501_final_project/all_data_w_splits/val/6':'/Users/jianyusu/Desktop/Image_recognition/cs6501_final_project/preprocessed/val/6/',\n",
    "           '/Users/jianyusu/Desktop/Image_recognition/cs6501_final_project/all_data_w_splits/val/7':'/Users/jianyusu/Desktop/Image_recognition/cs6501_final_project/preprocessed/val/7/',\n",
    "           '/Users/jianyusu/Desktop/Image_recognition/cs6501_final_project/all_data_w_splits/val/8':'/Users/jianyusu/Desktop/Image_recognition/cs6501_final_project/preprocessed/val/8/',\n",
    "           '/Users/jianyusu/Desktop/Image_recognition/cs6501_final_project/all_data_w_splits/val/9':'/Users/jianyusu/Desktop/Image_recognition/cs6501_final_project/preprocessed/val/9/'\n",
    "          \n",
    "          }"
   ]
  },
  {
   "cell_type": "code",
   "execution_count": 30,
   "metadata": {},
   "outputs": [],
   "source": [
    "for (inputFile, outputFile) in imgFile.items():\n",
    "    if not os.path.exists(outputFile):\n",
    "        os.makedirs(outputFile)\n",
    "    for path, subdirs, files in os.walk(inputFile):\n",
    "        for name in files:\n",
    "            file = os.path.join(path, name)\n",
    "            with Image.open(file) as f:\n",
    "                try:\n",
    "                    temp = f.copy()\n",
    "                    temp.thumbnail((224,224))\n",
    "                    temp.crop((0,0,224,224))\n",
    "                    temp.save(outputFile + name)   \n",
    "                except IOError:  \n",
    "                    print('No thumbnail')"
   ]
  },
  {
   "cell_type": "code",
   "execution_count": null,
   "metadata": {
    "collapsed": true
   },
   "outputs": [],
   "source": []
  }
 ],
 "metadata": {
  "kernelspec": {
   "display_name": "Python 2",
   "language": "python",
   "name": "python2"
  },
  "language_info": {
   "codemirror_mode": {
    "name": "ipython",
    "version": 2
   },
   "file_extension": ".py",
   "mimetype": "text/x-python",
   "name": "python",
   "nbconvert_exporter": "python",
   "pygments_lexer": "ipython2",
   "version": "2.7.13"
  }
 },
 "nbformat": 4,
 "nbformat_minor": 2
}
